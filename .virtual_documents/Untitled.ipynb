import pandas as pd
import numpy as np
df = pd.read_csv('C:\\Users\\fresh\\Desktop\\MY_COURSES\\3_TRESTLE_ACADEMY\\Data_Engineering_Track\\trestle_academy_dataset.csv')
df


import dtale 

import dtale.app as dtale_app
dtale_app.USE_COLAB = True
dtale.show(df)


#importing library
from ydata_profiling import ProfileReport
#defining the library
profile = ProfileReport(df)
# exporting your report as a html file
profile.to_file(output_file='report.html')


ds.structdata.describe(df)


import pandas as pd
import datasist as ds  #import datasist library
import numpy as np


df


ds.structdata.describe(df)



