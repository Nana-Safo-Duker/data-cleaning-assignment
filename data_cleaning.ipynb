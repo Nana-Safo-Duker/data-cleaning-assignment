{
 "cells": [
  {
   "cell_type": "code",
   "execution_count": 2,
   "metadata": {},
   "outputs": [],
   "source": [
    "import pandas as pd"
   ]
  },
  {
   "cell_type": "code",
   "execution_count": 3,
   "metadata": {},
   "outputs": [],
   "source": [
    "df = pd.read_csv('C:\\\\Users\\\\fresh\\\\Desktop\\\\MY_COURSES\\\\3_TRESTLE_ACADEMY\\\\Data_Engineering_Track\\\\trestle_academy_dataset.csv')"
   ]
  },
  {
   "cell_type": "code",
   "execution_count": 4,
   "metadata": {},
   "outputs": [
    {
     "data": {
      "text/html": [
       "<div>\n",
       "<style scoped>\n",
       "    .dataframe tbody tr th:only-of-type {\n",
       "        vertical-align: middle;\n",
       "    }\n",
       "\n",
       "    .dataframe tbody tr th {\n",
       "        vertical-align: top;\n",
       "    }\n",
       "\n",
       "    .dataframe thead th {\n",
       "        text-align: right;\n",
       "    }\n",
       "</style>\n",
       "<table border=\"1\" class=\"dataframe\">\n",
       "  <thead>\n",
       "    <tr style=\"text-align: right;\">\n",
       "      <th></th>\n",
       "      <th>student_id</th>\n",
       "      <th>name</th>\n",
       "      <th>age</th>\n",
       "      <th>gender</th>\n",
       "      <th>course</th>\n",
       "      <th>enrollment_date</th>\n",
       "      <th>final_grade</th>\n",
       "      <th>is_intern</th>\n",
       "    </tr>\n",
       "  </thead>\n",
       "  <tbody>\n",
       "    <tr>\n",
       "      <th>0</th>\n",
       "      <td>S0001</td>\n",
       "      <td>Student_1</td>\n",
       "      <td>30</td>\n",
       "      <td>Female</td>\n",
       "      <td>Data Science</td>\n",
       "      <td>2023-03-22</td>\n",
       "      <td>97</td>\n",
       "      <td>No</td>\n",
       "    </tr>\n",
       "    <tr>\n",
       "      <th>1</th>\n",
       "      <td>S0002</td>\n",
       "      <td>Student_2</td>\n",
       "      <td>33</td>\n",
       "      <td>Female</td>\n",
       "      <td>Data Science</td>\n",
       "      <td>2023-01-29</td>\n",
       "      <td>64</td>\n",
       "      <td>No</td>\n",
       "    </tr>\n",
       "    <tr>\n",
       "      <th>2</th>\n",
       "      <td>S0003</td>\n",
       "      <td>Student_3</td>\n",
       "      <td>39</td>\n",
       "      <td>Female</td>\n",
       "      <td>Data Engineering</td>\n",
       "      <td>2023-12-24</td>\n",
       "      <td>97</td>\n",
       "      <td>No</td>\n",
       "    </tr>\n",
       "    <tr>\n",
       "      <th>3</th>\n",
       "      <td>S0004</td>\n",
       "      <td>Student_4</td>\n",
       "      <td>18</td>\n",
       "      <td>Male</td>\n",
       "      <td>Data Engineering</td>\n",
       "      <td>2023-01-09</td>\n",
       "      <td>89</td>\n",
       "      <td>Yes</td>\n",
       "    </tr>\n",
       "    <tr>\n",
       "      <th>4</th>\n",
       "      <td>S0005</td>\n",
       "      <td>Student_5</td>\n",
       "      <td>21</td>\n",
       "      <td>Female</td>\n",
       "      <td>Cloud Computing</td>\n",
       "      <td>2023-05-26</td>\n",
       "      <td>65</td>\n",
       "      <td>No</td>\n",
       "    </tr>\n",
       "    <tr>\n",
       "      <th>...</th>\n",
       "      <td>...</td>\n",
       "      <td>...</td>\n",
       "      <td>...</td>\n",
       "      <td>...</td>\n",
       "      <td>...</td>\n",
       "      <td>...</td>\n",
       "      <td>...</td>\n",
       "      <td>...</td>\n",
       "    </tr>\n",
       "    <tr>\n",
       "      <th>995</th>\n",
       "      <td>S0996</td>\n",
       "      <td>Student_996</td>\n",
       "      <td>25</td>\n",
       "      <td>Female</td>\n",
       "      <td>Data Engineering</td>\n",
       "      <td>2023-05-25</td>\n",
       "      <td>52</td>\n",
       "      <td>Yes</td>\n",
       "    </tr>\n",
       "    <tr>\n",
       "      <th>996</th>\n",
       "      <td>S0997</td>\n",
       "      <td>Student_997</td>\n",
       "      <td>40</td>\n",
       "      <td>Male</td>\n",
       "      <td>AI Fundamentals</td>\n",
       "      <td>2023-08-15</td>\n",
       "      <td>90</td>\n",
       "      <td>No</td>\n",
       "    </tr>\n",
       "    <tr>\n",
       "      <th>997</th>\n",
       "      <td>S0998</td>\n",
       "      <td>Student_998</td>\n",
       "      <td>20</td>\n",
       "      <td>Female</td>\n",
       "      <td>Cloud Computing</td>\n",
       "      <td>2023-04-22</td>\n",
       "      <td>100</td>\n",
       "      <td>No</td>\n",
       "    </tr>\n",
       "    <tr>\n",
       "      <th>998</th>\n",
       "      <td>S0999</td>\n",
       "      <td>Student_999</td>\n",
       "      <td>40</td>\n",
       "      <td>Female</td>\n",
       "      <td>Cloud Computing</td>\n",
       "      <td>2023-07-04</td>\n",
       "      <td>67</td>\n",
       "      <td>No</td>\n",
       "    </tr>\n",
       "    <tr>\n",
       "      <th>999</th>\n",
       "      <td>S1000</td>\n",
       "      <td>Student_1000</td>\n",
       "      <td>34</td>\n",
       "      <td>Male</td>\n",
       "      <td>AI Fundamentals</td>\n",
       "      <td>2023-09-09</td>\n",
       "      <td>90</td>\n",
       "      <td>Yes</td>\n",
       "    </tr>\n",
       "  </tbody>\n",
       "</table>\n",
       "<p>1000 rows × 8 columns</p>\n",
       "</div>"
      ],
      "text/plain": [
       "    student_id          name  age  gender            course enrollment_date  \\\n",
       "0        S0001     Student_1   30  Female      Data Science      2023-03-22   \n",
       "1        S0002     Student_2   33  Female      Data Science      2023-01-29   \n",
       "2        S0003     Student_3   39  Female  Data Engineering      2023-12-24   \n",
       "3        S0004     Student_4   18    Male  Data Engineering      2023-01-09   \n",
       "4        S0005     Student_5   21  Female   Cloud Computing      2023-05-26   \n",
       "..         ...           ...  ...     ...               ...             ...   \n",
       "995      S0996   Student_996   25  Female  Data Engineering      2023-05-25   \n",
       "996      S0997   Student_997   40    Male   AI Fundamentals      2023-08-15   \n",
       "997      S0998   Student_998   20  Female   Cloud Computing      2023-04-22   \n",
       "998      S0999   Student_999   40  Female   Cloud Computing      2023-07-04   \n",
       "999      S1000  Student_1000   34    Male   AI Fundamentals      2023-09-09   \n",
       "\n",
       "     final_grade is_intern  \n",
       "0             97        No  \n",
       "1             64        No  \n",
       "2             97        No  \n",
       "3             89       Yes  \n",
       "4             65        No  \n",
       "..           ...       ...  \n",
       "995           52       Yes  \n",
       "996           90        No  \n",
       "997          100        No  \n",
       "998           67        No  \n",
       "999           90       Yes  \n",
       "\n",
       "[1000 rows x 8 columns]"
      ]
     },
     "execution_count": 4,
     "metadata": {},
     "output_type": "execute_result"
    }
   ],
   "source": [
    "df"
   ]
  },
  {
   "cell_type": "code",
   "execution_count": 5,
   "metadata": {},
   "outputs": [
    {
     "name": "stdout",
     "output_type": "stream",
     "text": [
      "<class 'pandas.core.frame.DataFrame'>\n",
      "RangeIndex: 1000 entries, 0 to 999\n",
      "Data columns (total 8 columns):\n",
      " #   Column           Non-Null Count  Dtype \n",
      "---  ------           --------------  ----- \n",
      " 0   student_id       1000 non-null   object\n",
      " 1   name             1000 non-null   object\n",
      " 2   age              1000 non-null   int64 \n",
      " 3   gender           1000 non-null   object\n",
      " 4   course           1000 non-null   object\n",
      " 5   enrollment_date  1000 non-null   object\n",
      " 6   final_grade      1000 non-null   int64 \n",
      " 7   is_intern        1000 non-null   object\n",
      "dtypes: int64(2), object(6)\n",
      "memory usage: 62.6+ KB\n"
     ]
    }
   ],
   "source": [
    "df.info()"
   ]
  },
  {
   "cell_type": "code",
   "execution_count": 6,
   "metadata": {},
   "outputs": [
    {
     "data": {
      "text/plain": [
       "(1000, 8)"
      ]
     },
     "execution_count": 6,
     "metadata": {},
     "output_type": "execute_result"
    }
   ],
   "source": [
    "df.shape"
   ]
  },
  {
   "cell_type": "code",
   "execution_count": 7,
   "metadata": {},
   "outputs": [
    {
     "data": {
      "text/plain": [
       "student_id         0\n",
       "name               0\n",
       "age                0\n",
       "gender             0\n",
       "course             0\n",
       "enrollment_date    0\n",
       "final_grade        0\n",
       "is_intern          0\n",
       "dtype: int64"
      ]
     },
     "execution_count": 7,
     "metadata": {},
     "output_type": "execute_result"
    }
   ],
   "source": [
    "df.isnull().sum()"
   ]
  },
  {
   "cell_type": "code",
   "execution_count": 8,
   "metadata": {},
   "outputs": [
    {
     "data": {
      "text/html": [
       "<div>\n",
       "<style scoped>\n",
       "    .dataframe tbody tr th:only-of-type {\n",
       "        vertical-align: middle;\n",
       "    }\n",
       "\n",
       "    .dataframe tbody tr th {\n",
       "        vertical-align: top;\n",
       "    }\n",
       "\n",
       "    .dataframe thead th {\n",
       "        text-align: right;\n",
       "    }\n",
       "</style>\n",
       "<table border=\"1\" class=\"dataframe\">\n",
       "  <thead>\n",
       "    <tr style=\"text-align: right;\">\n",
       "      <th></th>\n",
       "      <th>age</th>\n",
       "      <th>final_grade</th>\n",
       "    </tr>\n",
       "  </thead>\n",
       "  <tbody>\n",
       "    <tr>\n",
       "      <th>count</th>\n",
       "      <td>1000.000000</td>\n",
       "      <td>1000.000000</td>\n",
       "    </tr>\n",
       "    <tr>\n",
       "      <th>mean</th>\n",
       "      <td>30.731000</td>\n",
       "      <td>75.766000</td>\n",
       "    </tr>\n",
       "    <tr>\n",
       "      <th>std</th>\n",
       "      <td>7.857887</td>\n",
       "      <td>15.195004</td>\n",
       "    </tr>\n",
       "    <tr>\n",
       "      <th>min</th>\n",
       "      <td>18.000000</td>\n",
       "      <td>50.000000</td>\n",
       "    </tr>\n",
       "    <tr>\n",
       "      <th>25%</th>\n",
       "      <td>24.000000</td>\n",
       "      <td>62.000000</td>\n",
       "    </tr>\n",
       "    <tr>\n",
       "      <th>50%</th>\n",
       "      <td>31.000000</td>\n",
       "      <td>76.000000</td>\n",
       "    </tr>\n",
       "    <tr>\n",
       "      <th>75%</th>\n",
       "      <td>37.000000</td>\n",
       "      <td>89.000000</td>\n",
       "    </tr>\n",
       "    <tr>\n",
       "      <th>max</th>\n",
       "      <td>44.000000</td>\n",
       "      <td>100.000000</td>\n",
       "    </tr>\n",
       "  </tbody>\n",
       "</table>\n",
       "</div>"
      ],
      "text/plain": [
       "               age  final_grade\n",
       "count  1000.000000  1000.000000\n",
       "mean     30.731000    75.766000\n",
       "std       7.857887    15.195004\n",
       "min      18.000000    50.000000\n",
       "25%      24.000000    62.000000\n",
       "50%      31.000000    76.000000\n",
       "75%      37.000000    89.000000\n",
       "max      44.000000   100.000000"
      ]
     },
     "execution_count": 8,
     "metadata": {},
     "output_type": "execute_result"
    }
   ],
   "source": [
    "df.describe()"
   ]
  },
  {
   "cell_type": "code",
   "execution_count": 9,
   "metadata": {},
   "outputs": [
    {
     "data": {
      "text/plain": [
       "0      2023-03-22\n",
       "1      2023-01-29\n",
       "2      2023-12-24\n",
       "3      2023-01-09\n",
       "4      2023-05-26\n",
       "          ...    \n",
       "995    2023-05-25\n",
       "996    2023-08-15\n",
       "997    2023-04-22\n",
       "998    2023-07-04\n",
       "999    2023-09-09\n",
       "Name: enrollment_date, Length: 1000, dtype: object"
      ]
     },
     "execution_count": 9,
     "metadata": {},
     "output_type": "execute_result"
    }
   ],
   "source": [
    "df['enrollment_date']"
   ]
  },
  {
   "cell_type": "code",
   "execution_count": 10,
   "metadata": {},
   "outputs": [
    {
     "data": {
      "text/plain": [
       "dtype('O')"
      ]
     },
     "execution_count": 10,
     "metadata": {},
     "output_type": "execute_result"
    }
   ],
   "source": [
    "df['enrollment_date'].dtype"
   ]
  },
  {
   "cell_type": "code",
   "execution_count": 11,
   "metadata": {},
   "outputs": [
    {
     "data": {
      "text/plain": [
       "0      2023-03-22\n",
       "1      2023-01-29\n",
       "2      2023-12-24\n",
       "3      2023-01-09\n",
       "4      2023-05-26\n",
       "          ...    \n",
       "995    2023-05-25\n",
       "996    2023-08-15\n",
       "997    2023-04-22\n",
       "998    2023-07-04\n",
       "999    2023-09-09\n",
       "Name: enrollment_date, Length: 1000, dtype: object"
      ]
     },
     "execution_count": 11,
     "metadata": {},
     "output_type": "execute_result"
    }
   ],
   "source": [
    "df['enrollment_date']"
   ]
  },
  {
   "cell_type": "code",
   "execution_count": 12,
   "metadata": {},
   "outputs": [
    {
     "data": {
      "text/plain": [
       "Index(['student_id', 'name', 'age', 'gender', 'course', 'enrollment_date',\n",
       "       'final_grade', 'is_intern'],\n",
       "      dtype='object')"
      ]
     },
     "execution_count": 12,
     "metadata": {},
     "output_type": "execute_result"
    }
   ],
   "source": [
    "df.columns"
   ]
  },
  {
   "cell_type": "code",
   "execution_count": null,
   "metadata": {},
   "outputs": [],
   "source": []
  }
 ],
 "metadata": {
  "kernelspec": {
   "display_name": "base",
   "language": "python",
   "name": "python3"
  },
  "language_info": {
   "codemirror_mode": {
    "name": "ipython",
    "version": 3
   },
   "file_extension": ".py",
   "mimetype": "text/x-python",
   "name": "python",
   "nbconvert_exporter": "python",
   "pygments_lexer": "ipython3",
   "version": "3.12.7"
  }
 },
 "nbformat": 4,
 "nbformat_minor": 2
}
